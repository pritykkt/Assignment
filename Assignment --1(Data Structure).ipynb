{
 "cells": [
  {
   "cell_type": "markdown",
   "id": "e4ac2eef",
   "metadata": {},
   "source": [
    "# Assignment-1(Data structure)"
   ]
  },
  {
   "cell_type": "code",
   "execution_count": 3,
   "id": "fe40803b",
   "metadata": {},
   "outputs": [
    {
     "name": "stdout",
     "output_type": "stream",
     "text": [
      "dlrow olleH\n"
     ]
    }
   ],
   "source": [
    "#Que 1- Write a code to reverse a string\n",
    "text = \"Hello world\"\n",
    "new_text = text[::-1]\n",
    "print(new_text)\n",
    "\n"
   ]
  },
  {
   "cell_type": "code",
   "execution_count": 6,
   "id": "0e7507b7",
   "metadata": {},
   "outputs": [
    {
     "name": "stdout",
     "output_type": "stream",
     "text": [
      "3\n"
     ]
    }
   ],
   "source": [
    "#Que 2- write a code to count the number of vowels in a string\n",
    "\n",
    "\n",
    "string = \"Hello world\"\n",
    "vowels = \"aeiouAEIOU\"\n",
    " \n",
    "count = sum(string.count(vowel) for vowel in vowels)\n",
    "print(count)\n",
    "\n"
   ]
  },
  {
   "cell_type": "code",
   "execution_count": 7,
   "id": "337d78a2",
   "metadata": {},
   "outputs": [
    {
     "name": "stdout",
     "output_type": "stream",
     "text": [
      "No\n"
     ]
    }
   ],
   "source": [
    "#Que 3- Write a code to check if a given string is a palindrome or not\n",
    "\n",
    "x = \"I study in data analytic\"\n",
    "\n",
    "w = \"\"\n",
    "for i in x:\n",
    "    w = i + w\n",
    "\n",
    "if (x == w):\n",
    "    print(\"Yes\")\n",
    "else:\n",
    "    print(\"No\")\n",
    "\n",
    "\n"
   ]
  },
  {
   "cell_type": "code",
   "execution_count": 7,
   "id": "596ad0af",
   "metadata": {},
   "outputs": [
    {
     "name": "stdout",
     "output_type": "stream",
     "text": [
      "Anagram\n"
     ]
    }
   ],
   "source": [
    "#Que 4- write a code to check if two given strings are anagrams of each other\n",
    "\n",
    "str1 = \"Abcd\"\n",
    "str2 = \"dAbc\"\n",
    "str1 = sorted(str1)\n",
    "str2 = sorted(str2)\n",
    "\n",
    "if (str1 == str2):\n",
    "    print(\"Anagram\")\n",
    "else:\n",
    "    print(\"not an Anagram\")\n",
    "\n"
   ]
  },
  {
   "cell_type": "code",
   "execution_count": 9,
   "id": "b4e601e0",
   "metadata": {},
   "outputs": [
    {
     "name": "stdout",
     "output_type": "stream",
     "text": [
      "2\n"
     ]
    }
   ],
   "source": [
    "# Que 5- Write a code to find all occurrences of a given substring within another string\n",
    "\n",
    "a = \"jingle bell jingle\"\n",
    "sub = \"jingle\"\n",
    "print(a.count(sub))"
   ]
  },
  {
   "cell_type": "code",
   "execution_count": 9,
   "id": "0827e0c4",
   "metadata": {},
   "outputs": [
    {
     "name": "stdout",
     "output_type": "stream",
     "text": [
      "a3b4c4d3\n"
     ]
    }
   ],
   "source": [
    "# Que 6- Write a code to perform basic string compression using the counts of repeated characters\n",
    "\n",
    "def compress_string(s):\n",
    "    result = \"\"\n",
    "    count = 1\n",
    "    for i in range(len(s)-1):\n",
    "        if s[i]==s[i+1]:\n",
    "            count += 1\n",
    "        else:\n",
    "            result += s[i] + str(count)\n",
    "            count = 1\n",
    "            \n",
    "    result += s[-1] + str(count)\n",
    "    \n",
    "    return result if len(result)< len(s) else s\n",
    "\n",
    "# test the function\n",
    "\n",
    "input_string = \"aaabbbbccccddd\"\n",
    "compressed_string = compress_string(input_string)\n",
    "print(compressed_string)\n",
    "\n"
   ]
  },
  {
   "cell_type": "code",
   "execution_count": 11,
   "id": "2d45fe2d",
   "metadata": {},
   "outputs": [
    {
     "name": "stdout",
     "output_type": "stream",
     "text": [
      "String is Unique\n"
     ]
    }
   ],
   "source": [
    "# Que-7 Write a code to determine if a string has all unique characters\n",
    "\n",
    "def unique(s):\n",
    "    s = list(s)\n",
    "    s.sort()\n",
    "    for i in range (len(s) - 1):\n",
    "    \n",
    "        if(s[i] == s[i + 1]):\n",
    "        \n",
    "            return False\n",
    "            break\n",
    "     \n",
    "    return True\n",
    "\n",
    "if(unique(\"abcd\") == True):\n",
    "  print(\"String is Unique\")\n",
    "    \n",
    "else:\n",
    "  print(\"String is not Unique\")\n"
   ]
  },
  {
   "cell_type": "code",
   "execution_count": 13,
   "id": "857131b3",
   "metadata": {},
   "outputs": [
    {
     "name": "stdout",
     "output_type": "stream",
     "text": [
      "PWSKILLS\n",
      "pwskills\n"
     ]
    }
   ],
   "source": [
    "# Que-8 write a code to convert a given string to uppercase or lowercase\n",
    "\n",
    "my_string = \"pWskills\"\n",
    "print(my_string.upper())\n",
    "print(my_string.lower())"
   ]
  },
  {
   "cell_type": "code",
   "execution_count": 15,
   "id": "16d0385d",
   "metadata": {},
   "outputs": [
    {
     "name": "stdout",
     "output_type": "stream",
     "text": [
      "5\n"
     ]
    }
   ],
   "source": [
    "# Que-9 write a code to count the number of words in a string\n",
    "\n",
    "string = \"Hi my name is Jyoti\"\n",
    "word_count = 1\n",
    "for i in range(len(string)):\n",
    "    if string[i]==' ':\n",
    "        word_count +=1\n",
    "print(word_count)"
   ]
  },
  {
   "cell_type": "code",
   "execution_count": 16,
   "id": "cb2e3c38",
   "metadata": {},
   "outputs": [
    {
     "name": "stdout",
     "output_type": "stream",
     "text": [
      "Hello world\n"
     ]
    }
   ],
   "source": [
    "# Que-10 write a code to concatenate two strings without using the + operator\n",
    "\n",
    "str1 = \"Hello\"\n",
    "str2 = \"world\"\n",
    "print(\" \".join([str1,str2]))"
   ]
  },
  {
   "cell_type": "code",
   "execution_count": 1,
   "id": "54cd29e8",
   "metadata": {},
   "outputs": [
    {
     "name": "stdout",
     "output_type": "stream",
     "text": [
      "original list\n",
      "[10, 20, 30, 10, 40, 10, 50]\n",
      "list after removing element:\n",
      "[20, 30, 40, 50]\n"
     ]
    }
   ],
   "source": [
    "# Que-11 Write a code to remove all occurrences of a specific element from a list\n",
    "\n",
    "list = [10,20,30,10,40,10,50]\n",
    "n = 10\n",
    "print(\"original list\")\n",
    "print(list)\n",
    "for x in list:\n",
    "    if x == n:\n",
    "        list.remove(x)\n",
    "print(\"list after removing element:\")\n",
    "print(list)\n"
   ]
  },
  {
   "cell_type": "code",
   "execution_count": 19,
   "id": "43221a36",
   "metadata": {},
   "outputs": [
    {
     "name": "stdout",
     "output_type": "stream",
     "text": [
      "second largest element is: 45\n"
     ]
    }
   ],
   "source": [
    "# Que-12 implement a code to find the second largest number in a given list of integers\n",
    "\n",
    "list1 = [1,2,3,45,65,34]\n",
    "list1.sort()\n",
    "print(\"second largest element is:\",list1[-2])"
   ]
  },
  {
   "cell_type": "code",
   "execution_count": 16,
   "id": "70c95ecc",
   "metadata": {},
   "outputs": [
    {
     "name": "stdout",
     "output_type": "stream",
     "text": [
      "{'apple': 2, 'banana': 3, 'orange': 1}\n"
     ]
    }
   ],
   "source": [
    "# Que-13 Create a code to count the occurrences of each element in a list and return a dictionary with elements as\n",
    "# keys and their counts as values\n",
    "\n",
    "my_list = ['apple','banana','orange','banana','apple','banana']\n",
    "count_dict = {}\n",
    "\n",
    "for item in my_list:\n",
    "    if item in count_dict:\n",
    "        count_dict[item] += 1\n",
    "    else:\n",
    "        count_dict[item] = 1\n",
    "    \n",
    "print(count_dict)"
   ]
  },
  {
   "cell_type": "code",
   "execution_count": 1,
   "id": "631c8c4d",
   "metadata": {},
   "outputs": [
    {
     "data": {
      "text/plain": [
       "[7, 3, 5, 3, 1]"
      ]
     },
     "execution_count": 1,
     "metadata": {},
     "output_type": "execute_result"
    }
   ],
   "source": [
    "# Que-14 write a code to reverse a list in-place without using any built-in reverse functions\n",
    "\n",
    "def reverse_list(list_obj):\n",
    "    return list_obj[::-1]\n",
    "reverse_list([1, 3, 5 , 3, 7])\n"
   ]
  },
  {
   "cell_type": "code",
   "execution_count": 4,
   "id": "fab27e4d",
   "metadata": {},
   "outputs": [
    {
     "name": "stdout",
     "output_type": "stream",
     "text": [
      "List: [1, 2, 3, 4, 2, 1, 5, 6, 12, 13, 1, 4, 5, 4]\n",
      "New List: [1, 2, 3, 4, 5, 6, 12, 13]\n"
     ]
    }
   ],
   "source": [
    "# Que-15 implement a code to find and remove duplicates from a list while preserving the original order of elements\n",
    "\n",
    "list1 = [1, 2, 3, 4, 2, 1, 5, 6, 12, 13, 1, 4, 5, 4]\n",
    "print(\"List:\",list1)\n",
    " \n",
    "unique_list = []\n",
    "for x in list1:\n",
    "    if x not in unique_list:\n",
    "        unique_list.append(x)\n",
    "print(\"New List:\", unique_list)"
   ]
  },
  {
   "cell_type": "code",
   "execution_count": 6,
   "id": "a40fe878",
   "metadata": {},
   "outputs": [
    {
     "name": "stdout",
     "output_type": "stream",
     "text": [
      "not sorted\n"
     ]
    }
   ],
   "source": [
    "# Que-16 Create a code to check if a given list is sorted (either in ascending or descending order) or not\n",
    "\n",
    "L = [2,4,6,5,7,8,9,6,3]\n",
    "flag = 0\n",
    "\n",
    "for i in range(0,len(L)-1):\n",
    "    if L[i]>= L[i+1]:\n",
    "        flag = 1\n",
    "        break\n",
    "        \n",
    "if flag == 0:\n",
    "    print(\"sorted\")\n",
    "else:\n",
    "    print(\"not sorted\")"
   ]
  },
  {
   "cell_type": "code",
   "execution_count": 7,
   "id": "a3919473",
   "metadata": {},
   "outputs": [
    {
     "data": {
      "text/plain": [
       "[1, 2, 3, 4, 5, 6, 7, 8, 9, 10]"
      ]
     },
     "execution_count": 7,
     "metadata": {},
     "output_type": "execute_result"
    }
   ],
   "source": [
    "# Que-17 Write a code to merge two sorted lists into a single sorted list\n",
    "\n",
    "def merge_sorted_list(ls1,ls2):\n",
    "    return sorted(ls1+ls2)\n",
    "merge_sorted_list([1,3,5,7,9],[2,4,6,8,10])"
   ]
  },
  {
   "cell_type": "code",
   "execution_count": 11,
   "id": "033331c4",
   "metadata": {},
   "outputs": [
    {
     "data": {
      "text/plain": [
       "{1, 4, 9}"
      ]
     },
     "execution_count": 11,
     "metadata": {},
     "output_type": "execute_result"
    }
   ],
   "source": [
    "#Que-18 implement a code to find the intersection of two given lists\n",
    "\n",
    "a = [2,3,4,5,6,8,9,12,1]\n",
    "b = [1,4,7,9]\n",
    "\n",
    "# intersection of two list\n",
    "\n",
    "set(a).intersection(b)"
   ]
  },
  {
   "cell_type": "code",
   "execution_count": 15,
   "id": "afd67af3",
   "metadata": {},
   "outputs": [
    {
     "name": "stdout",
     "output_type": "stream",
     "text": [
      "[23, 15, 2, 14, 17, 16, 20, 52, 3, 48, 18, 12, 26, 32, 47, 54]\n"
     ]
    }
   ],
   "source": [
    "# Que-19 create a code to find the union of two lists without duplicates\n",
    "\n",
    "def Union(lst1, lst2):\n",
    "    list = lst1 + lst2\n",
    "    return list\n",
    " \n",
    "# Driver Code\n",
    "lst1 = [23, 15, 2, 14, 17, 16, 20 ,52]\n",
    "lst2 = [3, 48, 18, 12, 26, 32, 47, 54]\n",
    "print(Union(lst1, lst2))\n"
   ]
  },
  {
   "cell_type": "code",
   "execution_count": 17,
   "id": "23344ce5",
   "metadata": {},
   "outputs": [
    {
     "name": "stdout",
     "output_type": "stream",
     "text": [
      "original list: [1, 2, 3, 4, 5, 6, 7, 8, 9]\n",
      "shuffled list:  [3, 1, 5, 8, 2, 7, 6, 9, 4]\n"
     ]
    }
   ],
   "source": [
    "# Que-20 write a code to shuffle a given list randomly without using any built-in shuffle functions\n",
    "\n",
    "import random\n",
    "def shuffle_list(lst):\n",
    "    \n",
    "    for i in range(len(lst)-1,0,-1):\n",
    "        j = random.randint(0, i)\n",
    "        lst[i],lst[j] = lst[j],lst[i]\n",
    "    \n",
    "    return lst\n",
    "# test the function\n",
    "numbers = [1,2,3,4,5,6,7,8,9]\n",
    "print(\"original list:\",numbers)    \n",
    "print(\"shuffled list: \",shuffle_list(numbers))\n"
   ]
  },
  {
   "cell_type": "code",
   "execution_count": 18,
   "id": "8582b217",
   "metadata": {},
   "outputs": [
    {
     "name": "stdout",
     "output_type": "stream",
     "text": [
      "common elements: (5, 7)\n"
     ]
    }
   ],
   "source": [
    "#Que-21 write a code that takes two tuples as input and returns a new tuple containing elements that are\n",
    "# common to both input tuples\n",
    "\n",
    "def common_elements(tup1,tup2):\n",
    "    return tuple(i for i in tup1 if i in tup2)\n",
    "\n",
    "# test the function\n",
    "tup1 = (3,5,4,6,7)\n",
    "tup2 = (2,5,8,7,9)\n",
    "\n",
    "print(\"common elements:\",common_elements(tup1,tup2))"
   ]
  },
  {
   "cell_type": "code",
   "execution_count": 19,
   "id": "230940a6",
   "metadata": {},
   "outputs": [
    {
     "name": "stdout",
     "output_type": "stream",
     "text": [
      "enter first set of integers(separated by commmas)2,3,4,5,6,7\n",
      "enter second set of integers(separated by commmas)3,1,4,8,9,10\n",
      "intersection of two sets: {3, 4}\n"
     ]
    }
   ],
   "source": [
    "# Que-22 create a code that prompts the user to enter two sets of integers separated by commas. Then, print the\n",
    "# intersection of these two sets\n",
    "\n",
    "set1 = input(\"enter first set of integers(separated by commmas)\")\n",
    "set2 = input(\"enter second set of integers(separated by commmas)\")\n",
    "\n",
    "# convert input strings to sets of integers\n",
    "\n",
    "set1 = {int(x) for x in set1 .split(\",\")}\n",
    "set2 = {int(x) for x in set2 .split(\",\")}\n",
    "\n",
    "intersection = set1&set2\n",
    "print(\"intersection of two sets:\",intersection)"
   ]
  },
  {
   "cell_type": "code",
   "execution_count": 20,
   "id": "797a06de",
   "metadata": {},
   "outputs": [
    {
     "name": "stdout",
     "output_type": "stream",
     "text": [
      "common elements: (2, 4, 6)\n"
     ]
    }
   ],
   "source": [
    "# Que-23 Write a code to concatenate two tuples. The function should take two tuples as input and return a new\n",
    "# tuple containing elements from both input tuples.\n",
    "\n",
    "def common_elements(tup1,tup2):\n",
    "    return tuple(i for i in tup1 if i in tup2)\n",
    "\n",
    "# test the function\n",
    "tup1 = (2,4,6,8,9)\n",
    "tup2 = (1,2,3,4,5,6,7)\n",
    "print(\"common elements:\",common_elements(tup1,tup2))"
   ]
  },
  {
   "cell_type": "code",
   "execution_count": 2,
   "id": "27436365",
   "metadata": {},
   "outputs": [
    {
     "name": "stdout",
     "output_type": "stream",
     "text": [
      "enter first set of stringapple,banana,cherry\n",
      "enter second set of string banana,dates,guava\n",
      "element present in first set but not in second set: {'apple', 'cherry'}\n"
     ]
    }
   ],
   "source": [
    "#Que-24  Develop a code that prompts the user to input two sets of strings. Then, print the elements that are\n",
    "# present in the first set but not in the second set\n",
    "\n",
    "set1 = input(\"enter first set of string\")\n",
    "set2 = input(\"enter second set of string\")\n",
    "\n",
    "# convert input strings to sets of strings\n",
    "\n",
    "set1 = {x.strip()for x in set1.split(\",\")}\n",
    "set2 = {x.strip()for x in set2.split(\",\")}\n",
    "\n",
    "# calculate and print difference of two sets\n",
    "difference = set1-set2\n",
    "\n",
    "print(\"element present in first set but not in second set:\",difference)"
   ]
  },
  {
   "cell_type": "code",
   "execution_count": 14,
   "id": "1ff2037d",
   "metadata": {},
   "outputs": [
    {
     "ename": "SyntaxError",
     "evalue": "invalid syntax (532028933.py, line 4)",
     "output_type": "error",
     "traceback": [
      "\u001b[1;36m  Cell \u001b[1;32mIn[14], line 4\u001b[1;36m\u001b[0m\n\u001b[1;33m    def tuple(3,8):\u001b[0m\n\u001b[1;37m              ^\u001b[0m\n\u001b[1;31mSyntaxError\u001b[0m\u001b[1;31m:\u001b[0m invalid syntax\n"
     ]
    }
   ],
   "source": [
    "# Que-25 Create a code that takes a tuple and two integers as input. The function should return a new tuple\n",
    "# containing elements from the original tuple within the specified range of indices\n",
    "\n",
    "def tuple(3,8):\n",
    "    return tuple\n",
    "\n",
    "tup = (1,2,3,4,5,6,7,8,9)\n",
    "print(\"tuple:\",tup)\n"
   ]
  },
  {
   "cell_type": "code",
   "execution_count": 15,
   "id": "816d91bb",
   "metadata": {},
   "outputs": [
    {
     "name": "stdout",
     "output_type": "stream",
     "text": [
      "enter first set of characters abc\n",
      "{'a', 'c', 'b'}\n",
      "enter second set of characters bcd\n",
      "{'d', 'c', 'b'}\n",
      "union of the two sets: {'a', 'd', 'c', 'b'}\n"
     ]
    }
   ],
   "source": [
    "# Que-26 Write a code that prompts the user to input two sets of characters. Then, print the union of these two sets&\n",
    "# taking input of two sets of characters\n",
    "set1 =set(input(\"enter first set of characters \"))\n",
    "print(set1)\n",
    "set2 =set(input(\"enter second set of characters \"))\n",
    "print(set2)\n",
    "# finding the union of the two sets\n",
    "\n",
    "union_set = set1.union(set2)\n",
    "# printing the union set\n",
    "print(\"union of the two sets:\",union_set)"
   ]
  },
  {
   "cell_type": "code",
   "execution_count": 13,
   "id": "62c69dcc",
   "metadata": {},
   "outputs": [
    {
     "name": "stdout",
     "output_type": "stream",
     "text": [
      "Maximum value: 43\n",
      "Minimum value: 3\n"
     ]
    }
   ],
   "source": [
    "# Que-27 Develop a code that takes a tuple of integers as input. The function should return the maximum and\n",
    "# minimum values from the tuple using tuple unpacking\n",
    "\n",
    "def find_max_min(input_tuple):\n",
    "    max_val = max(input_tuple)\n",
    "    min_val = min(input_tuple)\n",
    "    \n",
    "    return max_val,min_val\n",
    "\n",
    "# text the function with a tuple of integers\n",
    "\n",
    "input_tuple = (3,4,5,6,7,12,34,43)\n",
    "max_val, min_val = find_max_min(input_tuple)\n",
    "\n",
    "print(f\"Maximum value: {max_val}\")\n",
    "print(f\"Minimum value: {min_val}\")\n",
    "\n"
   ]
  },
  {
   "cell_type": "code",
   "execution_count": 16,
   "id": "75781fcf",
   "metadata": {},
   "outputs": [
    {
     "name": "stdout",
     "output_type": "stream",
     "text": [
      "union: {1, 2, 3, 4, 5, 6, 7, 8, 9, 10}\n",
      "intersetion: {4, 5}\n",
      "difference(set1-set2): {1, 2, 3, 6}\n",
      "difference(set2-set1): {8, 9, 10, 7}\n"
     ]
    }
   ],
   "source": [
    "#Que-28 create a code that defines two sets of integers. Then, print the union, intersection, and difference of these\n",
    "# two sets\n",
    "\n",
    "set1 = {1,2,3,4,5,6}\n",
    "set2 = {4,7,8,9,5,10}\n",
    "\n",
    "# print the union of two sets\n",
    "print(\"union:\",set1.union(set2))\n",
    "\n",
    "#  print the intersection of two sets\n",
    "print(\"intersetion:\",set1.intersection(set2))\n",
    "\n",
    "#  print the difference of two sets\n",
    "print(\"difference(set1-set2):\",set1.difference(set2))\n",
    "print(\"difference(set2-set1):\",set2.difference(set1))"
   ]
  },
  {
   "cell_type": "code",
   "execution_count": 20,
   "id": "dc6f2ef2",
   "metadata": {},
   "outputs": [
    {
     "name": "stdout",
     "output_type": "stream",
     "text": [
      "Tuple: (2, 3, 4, 6, 5, 7, 8, 2, 2)\n",
      "Element: 2\n",
      "count of occurrence: 3\n"
     ]
    }
   ],
   "source": [
    "# Que-29 Write a code that takes a tuple and an element as input. The function should return the count of\n",
    "# occurrences of the given element in the tuple\n",
    "\n",
    "def count_element(tup,ele):\n",
    "    return tup.count(ele)\n",
    "\n",
    "# test the function\n",
    "\n",
    "tup = (2,3,4,6,5,7,8,2,2)\n",
    "ele = 2\n",
    "print(\"Tuple:\",tup)\n",
    "print(\"Element:\",ele)\n",
    "print(\"count of occurrence:\",count_element(tup,ele))"
   ]
  },
  {
   "cell_type": "code",
   "execution_count": 21,
   "id": "5d800530",
   "metadata": {},
   "outputs": [
    {
     "name": "stdout",
     "output_type": "stream",
     "text": [
      "enter first set of stringapple,banana,cherry,guava\n",
      "enter second set of stringapple,cherry,dates,grapes\n",
      "Symmetric difference: {'grapes', 'dates', 'banana', 'guava'}\n"
     ]
    }
   ],
   "source": [
    "# Que-30 Develop a code that prompts the user to input two sets of strings. Then, print the symmetric difference of\n",
    "# these two sets\n",
    "\n",
    "set1 = input(\"enter first set of string\")\n",
    "set2 = input(\"enter second set of string\")\n",
    "\n",
    "# convert input strings to sets of strings\n",
    "\n",
    "set1 = {x.strip()for x in set1.split(\",\")}\n",
    "set2 = {x.strip()for x in set2.split(\",\")}\n",
    "\n",
    "# calculate and print symmetric difference of two sets\n",
    "symmetric_diff = set1.symmetric_difference(set2)\n",
    "print(\"Symmetric difference:\",symmetric_diff)\n",
    "                                          \n",
    "                                \n",
    "\n"
   ]
  },
  {
   "cell_type": "code",
   "execution_count": 4,
   "id": "de93f374",
   "metadata": {},
   "outputs": [
    {
     "name": "stdout",
     "output_type": "stream",
     "text": [
      "Enter words separated by spaces: banana orange banana orange \n",
      "{'banana': 2, 'orange': 2}\n"
     ]
    }
   ],
   "source": [
    "# Que-31 Write a code that takes a list of words as input and returns a dictionary where the keys are unique words\n",
    "# and the values are the frequencies of those words in the input list\n",
    "\n",
    "def word_frequencies(word_list):\n",
    "    frequency_dict = {}\n",
    "    for word in word_list:\n",
    "        if word in frequency_dict:\n",
    "            frequency_dict[word] += 1\n",
    "        else:\n",
    "            frequency_dict[word] = 1\n",
    "    return frequency_dict\n",
    "\n",
    "# Get input from the user\n",
    "user_input = input(\"Enter words separated by spaces: \")\n",
    "\n",
    "# Split the input string into a list of words\n",
    "words = user_input.split()\n",
    "\n",
    "frequencies = word_frequencies(words)\n",
    "print(frequencies)\n",
    "    \n"
   ]
  },
  {
   "cell_type": "code",
   "execution_count": 4,
   "id": "95af9502",
   "metadata": {},
   "outputs": [
    {
     "name": "stdout",
     "output_type": "stream",
     "text": [
      "merged dictionary: {'x': 1, 'y': 6, 'z': 10, 'a': 8}\n"
     ]
    }
   ],
   "source": [
    "#Que-32 Write a code that takes two dictionaries as input and merges them into a single dictionary. If there are\n",
    "# common keys, the values should be added together\n",
    "\n",
    "def merge_dicts(dict1,dict2):\n",
    "    merged_dict = {**dict1,**dict2}\n",
    "    for key in dict1:\n",
    "        if key in dict2:\n",
    "            merged_dict[key] = dict1[key] + dict2[key]\n",
    "    \n",
    "    return merged_dict\n",
    "\n",
    "# test the function\n",
    "dict1 = {'x':1,'y':2,'z':3}\n",
    "dict2 = {'y':4,'z':7,'a':8}\n",
    "\n",
    "print(\"merged dictionary:\",merge_dicts(dict1,dict2))\n",
    "            \n",
    "        "
   ]
  },
  {
   "cell_type": "code",
   "execution_count": 5,
   "id": "15028b78",
   "metadata": {},
   "outputs": [
    {
     "name": "stdout",
     "output_type": "stream",
     "text": [
      "value\n",
      "None\n"
     ]
    }
   ],
   "source": [
    "# Que-33 write a code to access a value in a nested dictionary. The function should take the dictionary and a list of\n",
    "# keys as input, and return the corresponding value. If any of the keys do not exist in the dictionary, the\n",
    "# function should return None\n",
    "\n",
    "def get_nested_value(d, keys):\n",
    "    current_value = d\n",
    "    for key in keys:\n",
    "        if isinstance(current_value, dict) and key in current_value:\n",
    "            current_value = current_value[key]\n",
    "        else:\n",
    "            return None\n",
    "    return current_value\n",
    "\n",
    "# Example usage\n",
    "nested_dict = {\n",
    "    'a': {\n",
    "        'b': {\n",
    "            'c': 'value'\n",
    "        }\n",
    "    },\n",
    "    'x': {\n",
    "        'y': 'another_value'\n",
    "    }\n",
    "}\n",
    "\n",
    "keys = ['a', 'b', 'c']\n",
    "result = get_nested_value(nested_dict, keys)\n",
    "print(result)  # Output: 'value'\n",
    "\n",
    "keys = ['a', 'x', 'z']\n",
    "result = get_nested_value(nested_dict, keys)\n",
    "print(result)  # Output: None\n"
   ]
  },
  {
   "cell_type": "code",
   "execution_count": 1,
   "id": "944b5001",
   "metadata": {},
   "outputs": [
    {
     "name": "stdout",
     "output_type": "stream",
     "text": [
      "Sorted in ascending order: {'banana': 2, 'cherry': 5, 'apple': 10}\n",
      "Sorted in descending order: {'apple': 10, 'cherry': 5, 'banana': 2}\n"
     ]
    }
   ],
   "source": [
    "# Que-34 Write a code that takes a dictionary as input and returns a sorted version of it based on the values. You\n",
    "# can choose whether to sort in ascending or descending order\n",
    "\n",
    "def sort_dict_by_value(input_dict, ascending=True):\n",
    "    # Sort the dictionary by value\n",
    "    sorted_dict = dict(sorted(input_dict.items(), key=lambda item: item[1], reverse=not ascending))\n",
    "    return sorted_dict\n",
    "\n",
    "\n",
    "sample_dict = {'apple': 10, 'banana': 2, 'cherry': 5}\n",
    "sorted_dict_ascending = sort_dict_by_value(sample_dict, ascending=True)\n",
    "sorted_dict_descending = sort_dict_by_value(sample_dict, ascending=False)\n",
    "\n",
    "print(\"Sorted in ascending order:\", sorted_dict_ascending)\n",
    "print(\"Sorted in descending order:\", sorted_dict_descending)\n"
   ]
  },
  {
   "cell_type": "code",
   "execution_count": 2,
   "id": "1aa89303",
   "metadata": {},
   "outputs": [
    {
     "name": "stdout",
     "output_type": "stream",
     "text": [
      "Inverted dictionary: {1: ['apple', 'cherry'], 2: ['banana'], 3: ['date']}\n"
     ]
    }
   ],
   "source": [
    "#  Que-35 Write a code that inverts a dictionary, swapping keys and values. Ensure that the inverted dictionary\n",
    "# correctly handles cases where multiple keys have the same value by storing the keys as a list in the\n",
    "# inverted dictionary.\n",
    "\n",
    "def invert_dict(input_dict):\n",
    "    inverted_dict = {}\n",
    "    for key, value in input_dict.items():\n",
    "        if value in inverted_dict:\n",
    "            inverted_dict[value].append(key)\n",
    "        else:\n",
    "            inverted_dict[value] = [key]\n",
    "    return inverted_dict\n",
    "\n",
    "# Example usage:\n",
    "sample_dict = {'apple': 1, 'banana': 2, 'cherry': 1, 'date': 3}\n",
    "inverted_dict = invert_dict(sample_dict)\n",
    "\n",
    "print(\"Inverted dictionary:\", inverted_dict)\n",
    "\n"
   ]
  },
  {
   "cell_type": "code",
   "execution_count": null,
   "id": "71784b54",
   "metadata": {},
   "outputs": [],
   "source": []
  }
 ],
 "metadata": {
  "kernelspec": {
   "display_name": "Python 3 (ipykernel)",
   "language": "python",
   "name": "python3"
  },
  "language_info": {
   "codemirror_mode": {
    "name": "ipython",
    "version": 3
   },
   "file_extension": ".py",
   "mimetype": "text/x-python",
   "name": "python",
   "nbconvert_exporter": "python",
   "pygments_lexer": "ipython3",
   "version": "3.11.4"
  }
 },
 "nbformat": 4,
 "nbformat_minor": 5
}
